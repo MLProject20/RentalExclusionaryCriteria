{
 "cells": [
  {
   "cell_type": "markdown",
   "metadata": {},
   "source": [
    "### Import Libraries \n",
    "\n",
    "\n",
    " - The os module allows us to interact with operating systems including changing working directory\n",
    " - The pandas module allows us to read, clean and preprocess the output CSV files that were web scraped\n",
    " - The glob module allows us to search through file paths and search for files that meet a specific pattern in this example we look for .csv patterns\n",
    " "
   ]
  },
  {
   "cell_type": "code",
   "execution_count": 1,
   "metadata": {},
   "outputs": [],
   "source": [
    "\n",
    "import glob as gb\n",
    "import pandas as pd \n",
    "import os\n"
   ]
  },
  {
   "cell_type": "markdown",
   "metadata": {},
   "source": [
    "### Set Path\n",
    " - Set your path to where CSV outputs of your zillow webscraping was exported to us the os chdir method"
   ]
  },
  {
   "cell_type": "code",
   "execution_count": 2,
   "metadata": {},
   "outputs": [],
   "source": [
    "path = \"C:\\\\Users\\\\padu\\\\Desktop\\\\Zillow\\\\\"\n",
    "os.chdir(path)"
   ]
  },
  {
   "cell_type": "markdown",
   "metadata": {},
   "source": [
    "### Get a list of all CSV outputs \n",
    "- Use the glob method get generate a list of all your output csv in your directory\n"
   ]
  },
  {
   "cell_type": "code",
   "execution_count": 3,
   "metadata": {
    "scrolled": true
   },
   "outputs": [
    {
     "data": {
      "text/plain": [
       "['C:\\\\Users\\\\padu\\\\Desktop\\\\Zillow\\\\Zillow.csv',\n",
       " 'C:\\\\Users\\\\padu\\\\Desktop\\\\Zillow\\\\ZillowRental_2021_03_07_22_21_20.csv',\n",
       " 'C:\\\\Users\\\\padu\\\\Desktop\\\\Zillow\\\\ZillowRental_2021_03_08_13_45_11.csv',\n",
       " 'C:\\\\Users\\\\padu\\\\Desktop\\\\Zillow\\\\ZillowRental_2021_03_08_13_53_03.csv',\n",
       " 'C:\\\\Users\\\\padu\\\\Desktop\\\\Zillow\\\\ZillowRental_2021_03_08_14_53_10.csv',\n",
       " 'C:\\\\Users\\\\padu\\\\Desktop\\\\Zillow\\\\ZillowRental_2021_03_08_14_58_39.csv',\n",
       " 'C:\\\\Users\\\\padu\\\\Desktop\\\\Zillow\\\\ZillowRental_2021_03_08_16_00_29.csv',\n",
       " 'C:\\\\Users\\\\padu\\\\Desktop\\\\Zillow\\\\ZillowRental_2021_03_08_16_05_14.csv',\n",
       " 'C:\\\\Users\\\\padu\\\\Desktop\\\\Zillow\\\\ZillowRental_2021_03_08_18_30_19.csv',\n",
       " 'C:\\\\Users\\\\padu\\\\Desktop\\\\Zillow\\\\ZillowRental_2021_03_08_19_25_35.csv',\n",
       " 'C:\\\\Users\\\\padu\\\\Desktop\\\\Zillow\\\\ZillowRental_2021_03_08_20_38_13.csv',\n",
       " 'C:\\\\Users\\\\padu\\\\Desktop\\\\Zillow\\\\ZillowRental_2021_03_08_21_19_16.csv',\n",
       " 'C:\\\\Users\\\\padu\\\\Desktop\\\\Zillow\\\\ZillowRental_2021_03_09_01_21_42.csv',\n",
       " 'C:\\\\Users\\\\padu\\\\Desktop\\\\Zillow\\\\ZillowRental_2021_03_09_08_06_51.csv',\n",
       " 'C:\\\\Users\\\\padu\\\\Desktop\\\\Zillow\\\\ZillowRental_2021_03_09_12_55_08.csv',\n",
       " 'C:\\\\Users\\\\padu\\\\Desktop\\\\Zillow\\\\ZillowRental_2021_03_09_15_31_12.csv',\n",
       " 'C:\\\\Users\\\\padu\\\\Desktop\\\\Zillow\\\\ZillowRental_2021_03_09_21_11_32.csv',\n",
       " 'C:\\\\Users\\\\padu\\\\Desktop\\\\Zillow\\\\ZillowRental_2021_03_09_22_34_50.csv',\n",
       " 'C:\\\\Users\\\\padu\\\\Desktop\\\\Zillow\\\\ZillowRental_2021_03_09_23_04_37.csv',\n",
       " 'C:\\\\Users\\\\padu\\\\Desktop\\\\Zillow\\\\ZillowRental_2021_03_10_16_58_30.csv',\n",
       " 'C:\\\\Users\\\\padu\\\\Desktop\\\\Zillow\\\\ZillowRental_2021_03_10_19_46_21.csv',\n",
       " 'C:\\\\Users\\\\padu\\\\Desktop\\\\Zillow\\\\ZillowRental_2021_03_10_22_39_48.csv',\n",
       " 'C:\\\\Users\\\\padu\\\\Desktop\\\\Zillow\\\\ZillowRental_2021_03_11_11_02_29.csv',\n",
       " 'C:\\\\Users\\\\padu\\\\Desktop\\\\Zillow\\\\ZillowRental_2021_03_11_15_14_30.csv',\n",
       " 'C:\\\\Users\\\\padu\\\\Desktop\\\\Zillow\\\\ZillowRental_2021_03_11_15_38_03.csv',\n",
       " 'C:\\\\Users\\\\padu\\\\Desktop\\\\Zillow\\\\ZillowRental_2021_03_12_11_47_51.csv',\n",
       " 'C:\\\\Users\\\\padu\\\\Desktop\\\\Zillow\\\\ZillowRental_2021_03_12_16_12_41.csv',\n",
       " 'C:\\\\Users\\\\padu\\\\Desktop\\\\Zillow\\\\ZillowRental_2021_03_12_19_20_33.csv',\n",
       " 'C:\\\\Users\\\\padu\\\\Desktop\\\\Zillow\\\\ZillowRental_2021_03_13_22_07_55.csv',\n",
       " 'C:\\\\Users\\\\padu\\\\Desktop\\\\Zillow\\\\ZillowRental_2021_03_14_03_20_12.csv',\n",
       " 'C:\\\\Users\\\\padu\\\\Desktop\\\\Zillow\\\\ZillowRental_2021_03_14_18_33_48.csv',\n",
       " 'C:\\\\Users\\\\padu\\\\Desktop\\\\Zillow\\\\ZillowRental_2021_03_15_14_00_32.csv',\n",
       " 'C:\\\\Users\\\\padu\\\\Desktop\\\\Zillow\\\\ZillowRental_2021_03_16_14_54_36.csv',\n",
       " 'C:\\\\Users\\\\padu\\\\Desktop\\\\Zillow\\\\ZillowRental_2021_03_16_21_41_56.csv',\n",
       " 'C:\\\\Users\\\\padu\\\\Desktop\\\\Zillow\\\\ZillowRental_2021_03_17_10_54_17.csv',\n",
       " 'C:\\\\Users\\\\padu\\\\Desktop\\\\Zillow\\\\ZillowRental_2021_03_17_14_15_27.csv',\n",
       " 'C:\\\\Users\\\\padu\\\\Desktop\\\\Zillow\\\\ZillowRental_2021_03_17_21_09_08.csv',\n",
       " 'C:\\\\Users\\\\padu\\\\Desktop\\\\Zillow\\\\ZillowRental_2021_03_18_12_41_24.csv',\n",
       " 'C:\\\\Users\\\\padu\\\\Desktop\\\\Zillow\\\\ZillowRental_2021_03_18_20_07_46.csv',\n",
       " 'C:\\\\Users\\\\padu\\\\Desktop\\\\Zillow\\\\ZillowRental_2021_03_19_11_50_30.csv',\n",
       " 'C:\\\\Users\\\\padu\\\\Desktop\\\\Zillow\\\\ZillowRental_2021_03_19_12_28_53.csv',\n",
       " 'C:\\\\Users\\\\padu\\\\Desktop\\\\Zillow\\\\ZillowRental_2021_03_19_19_24_16.csv',\n",
       " 'C:\\\\Users\\\\padu\\\\Desktop\\\\Zillow\\\\ZillowRental_2021_03_20_00_22_38.csv',\n",
       " 'C:\\\\Users\\\\padu\\\\Desktop\\\\Zillow\\\\ZillowRental_2021_03_20_13_20_45.csv',\n",
       " 'C:\\\\Users\\\\padu\\\\Desktop\\\\Zillow\\\\ZillowRental_2021_03_20_20_08_40.csv',\n",
       " 'C:\\\\Users\\\\padu\\\\Desktop\\\\Zillow\\\\ZillowRental_2021_03_20_21_23_13.csv',\n",
       " 'C:\\\\Users\\\\padu\\\\Desktop\\\\Zillow\\\\ZillowRental_2021_03_21_03_11_05.csv',\n",
       " 'C:\\\\Users\\\\padu\\\\Desktop\\\\Zillow\\\\ZillowRental_2021_03_21_12_52_44.csv',\n",
       " 'C:\\\\Users\\\\padu\\\\Desktop\\\\Zillow\\\\ZillowRental_2021_03_21_19_13_32.csv',\n",
       " 'C:\\\\Users\\\\padu\\\\Desktop\\\\Zillow\\\\ZillowRental_2021_03_22_11_18_51.csv',\n",
       " 'C:\\\\Users\\\\padu\\\\Desktop\\\\Zillow\\\\ZillowRental_2021_03_22_13_40_47.csv',\n",
       " 'C:\\\\Users\\\\padu\\\\Desktop\\\\Zillow\\\\ZillowRental_2021_03_22_20_00_47.csv',\n",
       " 'C:\\\\Users\\\\padu\\\\Desktop\\\\Zillow\\\\ZillowRental_2021_03_22_20_29_08.csv',\n",
       " 'C:\\\\Users\\\\padu\\\\Desktop\\\\Zillow\\\\ZillowRental_2021_03_23_12_56_47.csv',\n",
       " 'C:\\\\Users\\\\padu\\\\Desktop\\\\Zillow\\\\ZillowRental_2021_03_23_17_56_39.csv',\n",
       " 'C:\\\\Users\\\\padu\\\\Desktop\\\\Zillow\\\\ZillowRental_2021_03_23_20_50_30.csv',\n",
       " 'C:\\\\Users\\\\padu\\\\Desktop\\\\Zillow\\\\ZillowRental_2021_03_24_11_31_25.csv',\n",
       " 'C:\\\\Users\\\\padu\\\\Desktop\\\\Zillow\\\\ZillowRental_2021_03_25_13_41_10.csv',\n",
       " 'C:\\\\Users\\\\padu\\\\Desktop\\\\Zillow\\\\ZillowRental_2021_03_25_18_04_37.csv',\n",
       " 'C:\\\\Users\\\\padu\\\\Desktop\\\\Zillow\\\\ZillowRental_2021_03_25_21_41_08.csv',\n",
       " 'C:\\\\Users\\\\padu\\\\Desktop\\\\Zillow\\\\ZillowRental_2021_03_26_11_48_18.csv',\n",
       " 'C:\\\\Users\\\\padu\\\\Desktop\\\\Zillow\\\\ZillowRental_2021_03_27_21_12_35.csv',\n",
       " 'C:\\\\Users\\\\padu\\\\Desktop\\\\Zillow\\\\ZillowRental_2021_03_27_21_22_50.csv',\n",
       " 'C:\\\\Users\\\\padu\\\\Desktop\\\\Zillow\\\\ZillowRental_2021_03_29_10_25_44.csv',\n",
       " 'C:\\\\Users\\\\padu\\\\Desktop\\\\Zillow\\\\ZillowRental_2021_03_29_13_24_23.csv',\n",
       " 'C:\\\\Users\\\\padu\\\\Desktop\\\\Zillow\\\\ZillowRental_2021_03_29_21_34_22.csv',\n",
       " 'C:\\\\Users\\\\padu\\\\Desktop\\\\Zillow\\\\ZillowRental_2021_03_30_11_07_55.csv',\n",
       " 'C:\\\\Users\\\\padu\\\\Desktop\\\\Zillow\\\\ZillowRental_2021_03_30_21_08_15.csv',\n",
       " 'C:\\\\Users\\\\padu\\\\Desktop\\\\Zillow\\\\ZillowRental_2021_03_31_12_05_55.csv',\n",
       " 'C:\\\\Users\\\\padu\\\\Desktop\\\\Zillow\\\\ZillowRental_2021_04_01_23_33_29.csv',\n",
       " 'C:\\\\Users\\\\padu\\\\Desktop\\\\Zillow\\\\ZillowRental_2021_04_04_17_47_12.csv',\n",
       " 'C:\\\\Users\\\\padu\\\\Desktop\\\\Zillow\\\\ZillowRental_2021_04_05_12_19_33.csv',\n",
       " 'C:\\\\Users\\\\padu\\\\Desktop\\\\Zillow\\\\ZillowSelenium_2021_03_27_23_31_04.csv',\n",
       " 'C:\\\\Users\\\\padu\\\\Desktop\\\\Zillow\\\\ZillowSelenium_2021_04_01 (3).csv',\n",
       " 'C:\\\\Users\\\\padu\\\\Desktop\\\\Zillow\\\\ZillowSelenium_2021_04_02.csv',\n",
       " 'C:\\\\Users\\\\padu\\\\Desktop\\\\Zillow\\\\ZillowSelenium_2021_04_04_03_42_53.csv',\n",
       " 'C:\\\\Users\\\\padu\\\\Desktop\\\\Zillow\\\\ZillowSelium_2021_0004_20.csv',\n",
       " 'C:\\\\Users\\\\padu\\\\Desktop\\\\Zillow\\\\ZillowSelium_2021_04_19 (2).csv',\n",
       " 'C:\\\\Users\\\\padu\\\\Desktop\\\\Zillow\\\\ZillowSelium_2021_04_19.csv',\n",
       " 'C:\\\\Users\\\\padu\\\\Desktop\\\\Zillow\\\\ZillowSelium_2021_04_19_.csv',\n",
       " 'C:\\\\Users\\\\padu\\\\Desktop\\\\Zillow\\\\ZillowSelium_2021_04_20 (2).csv',\n",
       " 'C:\\\\Users\\\\padu\\\\Desktop\\\\Zillow\\\\ZillowSelium_2021_04_20.csv',\n",
       " 'C:\\\\Users\\\\padu\\\\Desktop\\\\Zillow\\\\ZillowSelium_2021_04_200.csv',\n",
       " 'C:\\\\Users\\\\padu\\\\Desktop\\\\Zillow\\\\ZillowSelium_2021_04_21.csv',\n",
       " 'C:\\\\Users\\\\padu\\\\Desktop\\\\Zillow\\\\ZillowSelium_2021_04_22.csv',\n",
       " 'C:\\\\Users\\\\padu\\\\Desktop\\\\Zillow\\\\ZillowSelium_2021_04_2200.csv',\n",
       " 'C:\\\\Users\\\\padu\\\\Desktop\\\\Zillow\\\\ZillowSelium_2021_04_23.csv',\n",
       " 'C:\\\\Users\\\\padu\\\\Desktop\\\\Zillow\\\\ZillowSelium_2021_04_24.csv',\n",
       " 'C:\\\\Users\\\\padu\\\\Desktop\\\\Zillow\\\\ZillowSelium_2021_04_25.csv',\n",
       " 'C:\\\\Users\\\\padu\\\\Desktop\\\\Zillow\\\\ZillowSelium_2021_04_26.csv',\n",
       " 'C:\\\\Users\\\\padu\\\\Desktop\\\\Zillow\\\\ZillowSelium_2021_04_27 (2).csv',\n",
       " 'C:\\\\Users\\\\padu\\\\Desktop\\\\Zillow\\\\ZillowSelium_2021_04_27.csv',\n",
       " 'C:\\\\Users\\\\padu\\\\Desktop\\\\Zillow\\\\ZillowSelium_2021_04_28.csv',\n",
       " 'C:\\\\Users\\\\padu\\\\Desktop\\\\Zillow\\\\ZillowSelium_2021_04_29.csv',\n",
       " 'C:\\\\Users\\\\padu\\\\Desktop\\\\Zillow\\\\ZillowSelium_2021_04_30 (2).csv',\n",
       " 'C:\\\\Users\\\\padu\\\\Desktop\\\\Zillow\\\\ZillowSelium_2021_04_30.csv',\n",
       " 'C:\\\\Users\\\\padu\\\\Desktop\\\\Zillow\\\\ZillowSelium_2021_0504_21.csv',\n",
       " 'C:\\\\Users\\\\padu\\\\Desktop\\\\Zillow\\\\ZillowSelium_2021_05_02.csv',\n",
       " 'C:\\\\Users\\\\padu\\\\Desktop\\\\Zillow\\\\ZillowSelium_2021_05_03.csv',\n",
       " 'C:\\\\Users\\\\padu\\\\Desktop\\\\Zillow\\\\ZillowSelium_2021_05_04 (2).csv',\n",
       " 'C:\\\\Users\\\\padu\\\\Desktop\\\\Zillow\\\\ZillowSelium_2021_05_04 (3).csv',\n",
       " 'C:\\\\Users\\\\padu\\\\Desktop\\\\Zillow\\\\ZillowSelium_2021_05_04.csv',\n",
       " 'C:\\\\Users\\\\padu\\\\Desktop\\\\Zillow\\\\ZillowSelium_2021_05_07.csv',\n",
       " 'C:\\\\Users\\\\padu\\\\Desktop\\\\Zillow\\\\ZillowSelium_2021_05_08.csv',\n",
       " 'C:\\\\Users\\\\padu\\\\Desktop\\\\Zillow\\\\ZillowSelium_2021_05_10.csv',\n",
       " 'C:\\\\Users\\\\padu\\\\Desktop\\\\Zillow\\\\ZillowSelium_2021_05_11.csv',\n",
       " 'C:\\\\Users\\\\padu\\\\Desktop\\\\Zillow\\\\ZillowSelium_2021_05_14.csv',\n",
       " 'C:\\\\Users\\\\padu\\\\Desktop\\\\Zillow\\\\ZillowSelium_2021_05_18.csv',\n",
       " 'C:\\\\Users\\\\padu\\\\Desktop\\\\Zillow\\\\ZillowSelium_2021_05_19.csv',\n",
       " 'C:\\\\Users\\\\padu\\\\Desktop\\\\Zillow\\\\ZillowSelium_2021_05_20.csv',\n",
       " 'C:\\\\Users\\\\padu\\\\Desktop\\\\Zillow\\\\ZillowSelium_2021_05_21 (2).csv',\n",
       " 'C:\\\\Users\\\\padu\\\\Desktop\\\\Zillow\\\\ZillowSelium_2021_05_21.csv',\n",
       " 'C:\\\\Users\\\\padu\\\\Desktop\\\\Zillow\\\\ZillowSelium_2021_05_22 (2).csv',\n",
       " 'C:\\\\Users\\\\padu\\\\Desktop\\\\Zillow\\\\ZillowSelium_2021_05_22.csv',\n",
       " 'C:\\\\Users\\\\padu\\\\Desktop\\\\Zillow\\\\ZillowSelium_2021_05_25.csv',\n",
       " 'C:\\\\Users\\\\padu\\\\Desktop\\\\Zillow\\\\ZillowSelium_2021_05_29.csv',\n",
       " 'C:\\\\Users\\\\padu\\\\Desktop\\\\Zillow\\\\ZillowSelium_2021_05_30.csv',\n",
       " 'C:\\\\Users\\\\padu\\\\Desktop\\\\Zillow\\\\ZillowSelium_2021_05_31.csv',\n",
       " 'C:\\\\Users\\\\padu\\\\Desktop\\\\Zillow\\\\ZillowSelium_2021_06_02 (1).csv',\n",
       " 'C:\\\\Users\\\\padu\\\\Desktop\\\\Zillow\\\\ZillowSelium_2021_06_02.csv',\n",
       " 'C:\\\\Users\\\\padu\\\\Desktop\\\\Zillow\\\\ZillowSelium_2021_06_04.csv',\n",
       " 'C:\\\\Users\\\\padu\\\\Desktop\\\\Zillow\\\\ZillowSelium_2021_06_06.csv',\n",
       " 'C:\\\\Users\\\\padu\\\\Desktop\\\\Zillow\\\\ZillowSelium_2021_06_08.csv',\n",
       " 'C:\\\\Users\\\\padu\\\\Desktop\\\\Zillow\\\\ZillowSelium_2021_06_09.csv',\n",
       " 'C:\\\\Users\\\\padu\\\\Desktop\\\\Zillow\\\\ZillowSelium_2021_06_10.csv',\n",
       " 'C:\\\\Users\\\\padu\\\\Desktop\\\\Zillow\\\\ZillowSelium_2021_06_11.csv',\n",
       " 'C:\\\\Users\\\\padu\\\\Desktop\\\\Zillow\\\\ZillowSelium_2021_06_14.csv',\n",
       " 'C:\\\\Users\\\\padu\\\\Desktop\\\\Zillow\\\\ZillowSelium_2021_06_15.csv',\n",
       " 'C:\\\\Users\\\\padu\\\\Desktop\\\\Zillow\\\\ZillowSelium_2021_06_16.csv',\n",
       " 'C:\\\\Users\\\\padu\\\\Desktop\\\\Zillow\\\\ZillowSelium_2021_06_17.csv',\n",
       " 'C:\\\\Users\\\\padu\\\\Desktop\\\\Zillow\\\\ZillowSelium_2021_06_18.csv',\n",
       " 'C:\\\\Users\\\\padu\\\\Desktop\\\\Zillow\\\\ZillowSelium_2021_06_20.csv',\n",
       " 'C:\\\\Users\\\\padu\\\\Desktop\\\\Zillow\\\\ZillowSelium_2021_06_22.csv',\n",
       " 'C:\\\\Users\\\\padu\\\\Desktop\\\\Zillow\\\\ZillowSelium_2021_06_23.csv',\n",
       " 'C:\\\\Users\\\\padu\\\\Desktop\\\\Zillow\\\\ZillowSelium_2021_06_24.csv',\n",
       " 'C:\\\\Users\\\\padu\\\\Desktop\\\\Zillow\\\\ZillowSelium_2021_06_25.csv',\n",
       " 'C:\\\\Users\\\\padu\\\\Desktop\\\\Zillow\\\\ZillowSelium_2021_06_26.csv',\n",
       " 'C:\\\\Users\\\\padu\\\\Desktop\\\\Zillow\\\\ZillowSelium_2021_06_28.csv',\n",
       " 'C:\\\\Users\\\\padu\\\\Desktop\\\\Zillow\\\\ZillowSelium_2021_06_29.csv',\n",
       " 'C:\\\\Users\\\\padu\\\\Desktop\\\\Zillow\\\\ZillowSelium_2021_06_30.csv',\n",
       " 'C:\\\\Users\\\\padu\\\\Desktop\\\\Zillow\\\\ZillowSelium_2021_07_01.csv',\n",
       " 'C:\\\\Users\\\\padu\\\\Desktop\\\\Zillow\\\\ZillowSelium_2021_07_03.csv',\n",
       " 'C:\\\\Users\\\\padu\\\\Desktop\\\\Zillow\\\\ZillowSelium_2021_07_04.csv',\n",
       " 'C:\\\\Users\\\\padu\\\\Desktop\\\\Zillow\\\\ZillowSelium_2021_07_05.csv',\n",
       " 'C:\\\\Users\\\\padu\\\\Desktop\\\\Zillow\\\\ZillowSelium_2021_07_07.csv',\n",
       " 'C:\\\\Users\\\\padu\\\\Desktop\\\\Zillow\\\\ZillowSelium_2021_07_08 (2).csv',\n",
       " 'C:\\\\Users\\\\padu\\\\Desktop\\\\Zillow\\\\ZillowSelium_2021_07_08.csv',\n",
       " 'C:\\\\Users\\\\padu\\\\Desktop\\\\Zillow\\\\ZillowSelium_2021_07_11.csv',\n",
       " 'C:\\\\Users\\\\padu\\\\Desktop\\\\Zillow\\\\ZillowSelium_2021_07_13 (1).csv',\n",
       " 'C:\\\\Users\\\\padu\\\\Desktop\\\\Zillow\\\\ZillowSelium_2021_07_13.csv',\n",
       " 'C:\\\\Users\\\\padu\\\\Desktop\\\\Zillow\\\\ZillowSelium_2021_07_14 (1).csv',\n",
       " 'C:\\\\Users\\\\padu\\\\Desktop\\\\Zillow\\\\ZillowSelium_2021_07_14.csv',\n",
       " 'C:\\\\Users\\\\padu\\\\Desktop\\\\Zillow\\\\ZillowSelium_2021_07_18.csv',\n",
       " 'C:\\\\Users\\\\padu\\\\Desktop\\\\Zillow\\\\ZillowSelium_2021_07_20.csv',\n",
       " 'C:\\\\Users\\\\padu\\\\Desktop\\\\Zillow\\\\ZillowSelium_2021_07_21.csv',\n",
       " 'C:\\\\Users\\\\padu\\\\Desktop\\\\Zillow\\\\ZillowSelium_2021_07_22.csv',\n",
       " 'C:\\\\Users\\\\padu\\\\Desktop\\\\Zillow\\\\ZillowSelium_2021_07_25.csv',\n",
       " 'C:\\\\Users\\\\padu\\\\Desktop\\\\Zillow\\\\ZillowSelium_2021_07_26.csv',\n",
       " 'C:\\\\Users\\\\padu\\\\Desktop\\\\Zillow\\\\ZillowSelium_2021_07_28.csv',\n",
       " 'C:\\\\Users\\\\padu\\\\Desktop\\\\Zillow\\\\ZillowSelium_2021_07_29.csv',\n",
       " 'C:\\\\Users\\\\padu\\\\Desktop\\\\Zillow\\\\ZillowSelium_2021_08_02.csv',\n",
       " 'C:\\\\Users\\\\padu\\\\Desktop\\\\Zillow\\\\ZillowSelium_2021_08_04.csv',\n",
       " 'C:\\\\Users\\\\padu\\\\Desktop\\\\Zillow\\\\ZillowSelium_2021_08_07.csv',\n",
       " 'C:\\\\Users\\\\padu\\\\Desktop\\\\Zillow\\\\ZillowSelium_2021_08_16.csv',\n",
       " 'C:\\\\Users\\\\padu\\\\Desktop\\\\Zillow\\\\ZillowSelium_2021_08_17.csv',\n",
       " 'C:\\\\Users\\\\padu\\\\Desktop\\\\Zillow\\\\ZillowSelium_2021_08_18.csv',\n",
       " 'C:\\\\Users\\\\padu\\\\Desktop\\\\Zillow\\\\ZillowSelium_2021_08_19.csv',\n",
       " 'C:\\\\Users\\\\padu\\\\Desktop\\\\Zillow\\\\ZillowSelium_2021_08_22.csv',\n",
       " 'C:\\\\Users\\\\padu\\\\Desktop\\\\Zillow\\\\ZillowSelium_2021_08_23.csv',\n",
       " 'C:\\\\Users\\\\padu\\\\Desktop\\\\Zillow\\\\ZillowSelium_2021_08_24.csv',\n",
       " 'C:\\\\Users\\\\padu\\\\Desktop\\\\Zillow\\\\ZillowSelium_2021_08_26.csv',\n",
       " 'C:\\\\Users\\\\padu\\\\Desktop\\\\Zillow\\\\ZillowSelium_2021_08_28.csv',\n",
       " 'C:\\\\Users\\\\padu\\\\Desktop\\\\Zillow\\\\ZillowSelium_2021_08_29.csv',\n",
       " 'C:\\\\Users\\\\padu\\\\Desktop\\\\Zillow\\\\ZillowSelium_2021_08_31.csv',\n",
       " 'C:\\\\Users\\\\padu\\\\Desktop\\\\Zillow\\\\ZillowSelium_2021_09_01.csv',\n",
       " 'C:\\\\Users\\\\padu\\\\Desktop\\\\Zillow\\\\ZillowSelium_2021_09_02.csv',\n",
       " 'C:\\\\Users\\\\padu\\\\Desktop\\\\Zillow\\\\ZillowSelium_2021_09_04.csv',\n",
       " 'C:\\\\Users\\\\padu\\\\Desktop\\\\Zillow\\\\ZillowSelium_2021_09_22.csv',\n",
       " 'C:\\\\Users\\\\padu\\\\Desktop\\\\Zillow\\\\ZillowSelium_2021_09_27.csv',\n",
       " 'C:\\\\Users\\\\padu\\\\Desktop\\\\Zillow\\\\ZillowSelium_2021_09_28.csv',\n",
       " 'C:\\\\Users\\\\padu\\\\Desktop\\\\Zillow\\\\ZillowSelium_2021_09_30.csv',\n",
       " 'C:\\\\Users\\\\padu\\\\Desktop\\\\Zillow\\\\ZillowSelium_2021_10_02.csv',\n",
       " 'C:\\\\Users\\\\padu\\\\Desktop\\\\Zillow\\\\ZillowSelium_2021_10_05.csv',\n",
       " 'C:\\\\Users\\\\padu\\\\Desktop\\\\Zillow\\\\ZillowSelium_2021_10_08.csv',\n",
       " 'C:\\\\Users\\\\padu\\\\Desktop\\\\Zillow\\\\ZillowSelium_2021_10_11.csv',\n",
       " 'C:\\\\Users\\\\padu\\\\Desktop\\\\Zillow\\\\ZillowSelium_2021_10_14.csv',\n",
       " 'C:\\\\Users\\\\padu\\\\Desktop\\\\Zillow\\\\ZillowSelium_2021_10_21.csv',\n",
       " 'C:\\\\Users\\\\padu\\\\Desktop\\\\Zillow\\\\ZillowSelium_2021_10_25.csv',\n",
       " 'C:\\\\Users\\\\padu\\\\Desktop\\\\Zillow\\\\ZillowSelium_2021_10_27.csv',\n",
       " 'C:\\\\Users\\\\padu\\\\Desktop\\\\Zillow\\\\ZillowSelium_2021_10_28.csv',\n",
       " 'C:\\\\Users\\\\padu\\\\Desktop\\\\Zillow\\\\ZillowSelium_2021_10_30.csv',\n",
       " 'C:\\\\Users\\\\padu\\\\Desktop\\\\Zillow\\\\ZillowSelium_2021_11_01.csv',\n",
       " 'C:\\\\Users\\\\padu\\\\Desktop\\\\Zillow\\\\ZillowSelium_2021_11_03.csv',\n",
       " 'C:\\\\Users\\\\padu\\\\Desktop\\\\Zillow\\\\ZillowSelium_2021_11_07.csv',\n",
       " 'C:\\\\Users\\\\padu\\\\Desktop\\\\Zillow\\\\ZillowSelium_2021_11_09.csv',\n",
       " 'C:\\\\Users\\\\padu\\\\Desktop\\\\Zillow\\\\ZillowSelium_2021_11_10.csv',\n",
       " 'C:\\\\Users\\\\padu\\\\Desktop\\\\Zillow\\\\ZillowSelium_2021_11_11.csv',\n",
       " 'C:\\\\Users\\\\padu\\\\Desktop\\\\Zillow\\\\ZillowSelium_2021_11_15.csv',\n",
       " 'C:\\\\Users\\\\padu\\\\Desktop\\\\Zillow\\\\ZillowSelium_2021_11_17.csv',\n",
       " 'C:\\\\Users\\\\padu\\\\Desktop\\\\Zillow\\\\ZillowSelium_2021_4_20.csv',\n",
       " 'C:\\\\Users\\\\padu\\\\Desktop\\\\Zillow\\\\ZillowSelium_2022_02_16.csv',\n",
       " 'C:\\\\Users\\\\padu\\\\Desktop\\\\Zillow\\\\ZillowSelium_2022_02_17_13.csv',\n",
       " 'C:\\\\Users\\\\padu\\\\Desktop\\\\Zillow\\\\ZillowSelium_2022_02_17_15.csv',\n",
       " 'C:\\\\Users\\\\padu\\\\Desktop\\\\Zillow\\\\ZillowSelium_2022_02_17_16.csv',\n",
       " 'C:\\\\Users\\\\padu\\\\Desktop\\\\Zillow\\\\ZillowSelium_2022_02_17_20.csv',\n",
       " 'C:\\\\Users\\\\padu\\\\Desktop\\\\Zillow\\\\ZillowSel_2021_04_07.csv',\n",
       " 'C:\\\\Users\\\\padu\\\\Desktop\\\\Zillow\\\\ZillowSel_2021_04_08.csv',\n",
       " 'C:\\\\Users\\\\padu\\\\Desktop\\\\Zillow\\\\ZillowSel_2021_04_09.csv',\n",
       " 'C:\\\\Users\\\\padu\\\\Desktop\\\\Zillow\\\\ZillowSel_2021_04_10.csv',\n",
       " 'C:\\\\Users\\\\padu\\\\Desktop\\\\Zillow\\\\ZillowSel_2021_04_12.csv',\n",
       " 'C:\\\\Users\\\\padu\\\\Desktop\\\\Zillow\\\\ZillowSel_2021_04_13.csv',\n",
       " 'C:\\\\Users\\\\padu\\\\Desktop\\\\Zillow\\\\ZillowSel_2021_04_14.csv',\n",
       " 'C:\\\\Users\\\\padu\\\\Desktop\\\\Zillow\\\\ZillowSel_2021_04_15.csv',\n",
       " 'C:\\\\Users\\\\padu\\\\Desktop\\\\Zillow\\\\ZillowSel_2021_04_17.csv',\n",
       " 'C:\\\\Users\\\\padu\\\\Desktop\\\\Zillow\\\\ZillowSel_2021_04_18.csv',\n",
       " 'C:\\\\Users\\\\padu\\\\Desktop\\\\Zillow\\\\ZillowSel_2021_04_19.csv']"
      ]
     },
     "execution_count": 3,
     "metadata": {},
     "output_type": "execute_result"
    }
   ],
   "source": [
    "All = gb.glob(path + \"/*.csv\")\n",
    "All"
   ]
  },
  {
   "cell_type": "code",
   "execution_count": 4,
   "metadata": {},
   "outputs": [
    {
     "data": {
      "text/plain": [
       "216"
      ]
     },
     "execution_count": 4,
     "metadata": {},
     "output_type": "execute_result"
    }
   ],
   "source": [
    "#Verify totoal number of files \n",
    "\n",
    "len(All)"
   ]
  },
  {
   "cell_type": "markdown",
   "metadata": {},
   "source": [
    "### Concatenate CSV\n",
    "- combine all files as a single CSV by concatenating them. To do this:\n",
    "    - loop through the list of CSV in your path and use the pandas.read_csv method to read them. It will create a generator\n",
    "    - Afterward use the pd.concat method to concatenate all your csv files "
   ]
  },
  {
   "cell_type": "code",
   "execution_count": 5,
   "metadata": {},
   "outputs": [],
   "source": [
    "Zillow = (pd.read_csv(file) for file in All)  \n",
    "FinalZillow   = pd.concat(Zillow, ignore_index=True)"
   ]
  },
  {
   "cell_type": "code",
   "execution_count": 6,
   "metadata": {},
   "outputs": [
    {
     "data": {
      "text/plain": [
       "(88136, 12)"
      ]
     },
     "execution_count": 6,
     "metadata": {},
     "output_type": "execute_result"
    }
   ],
   "source": [
    "FinalZillow.shape"
   ]
  },
  {
   "cell_type": "markdown",
   "metadata": {},
   "source": [
    "### Check for duplicates\n",
    "- Because we are web scraping daily, there multiple duplicates in our data, we check for those using the duplicated method and the sum method\n",
    "- We can identify the unique listings by subracting the duplicated listings from all lisitings "
   ]
  },
  {
   "cell_type": "code",
   "execution_count": 7,
   "metadata": {},
   "outputs": [
    {
     "data": {
      "text/plain": [
       "71359"
      ]
     },
     "execution_count": 7,
     "metadata": {},
     "output_type": "execute_result"
    }
   ],
   "source": [
    "# Checking for duplicated listings\n",
    "FinalZillow.duplicated().sum()"
   ]
  },
  {
   "cell_type": "code",
   "execution_count": 8,
   "metadata": {},
   "outputs": [
    {
     "data": {
      "text/plain": [
       "16777"
      ]
     },
     "execution_count": 8,
     "metadata": {},
     "output_type": "execute_result"
    }
   ],
   "source": [
    "# Checking for unique listings by finding the difference between original listings and duplicated listings\n",
    "\n",
    "int(FinalZillow.shape[0]) - FinalZillow.duplicated().sum() "
   ]
  },
  {
   "cell_type": "markdown",
   "metadata": {},
   "source": [
    "### Generate Unique Listings\n",
    "- Create a variable that stores the unique listings "
   ]
  },
  {
   "cell_type": "code",
   "execution_count": 9,
   "metadata": {},
   "outputs": [],
   "source": [
    "FinalUnique = FinalZillow.drop_duplicates()\n"
   ]
  },
  {
   "cell_type": "code",
   "execution_count": 10,
   "metadata": {},
   "outputs": [
    {
     "data": {
      "text/plain": [
       "16777"
      ]
     },
     "execution_count": 10,
     "metadata": {},
     "output_type": "execute_result"
    }
   ],
   "source": [
    "int(FinalUnique.shape[0]) - FinalUnique.duplicated().sum() "
   ]
  },
  {
   "cell_type": "markdown",
   "metadata": {},
   "source": [
    "### Change directory for  Output file \n",
    " -  Change the output directory for your final CSV\n",
    " -  Since the cleaning including concatenating will be done multiple time for any addtional webscraping, you would have to export the final clean file to a different folder"
   ]
  },
  {
   "cell_type": "code",
   "execution_count": 11,
   "metadata": {},
   "outputs": [],
   "source": [
    "paths = \"C:\\\\Users\\\\padu\\\\Desktop\\\\Zillow\\\\Final\\\\\"\n",
    "os.chdir(paths)"
   ]
  },
  {
   "cell_type": "markdown",
   "metadata": {},
   "source": [
    "### Export the final output as a CSV file"
   ]
  },
  {
   "cell_type": "code",
   "execution_count": 12,
   "metadata": {},
   "outputs": [],
   "source": [
    "FinalUnique.to_csv(\"ZillowUnique.csv\", index=False)"
   ]
  },
  {
   "cell_type": "code",
   "execution_count": 13,
   "metadata": {},
   "outputs": [
    {
     "data": {
      "text/plain": [
       "Index(['latitude', 'longitude', 'floorsize', 'streetaddress', 'zipcode',\n",
       "       'Locality', 'url', 'price', 'bedrooms', 'bedroomsLab', 'baths',\n",
       "       'overview'],\n",
       "      dtype='object')"
      ]
     },
     "execution_count": 13,
     "metadata": {},
     "output_type": "execute_result"
    }
   ],
   "source": [
    "FinalUnique.columns"
   ]
  }
 ],
 "metadata": {
  "kernelspec": {
   "display_name": "Python 3 (ipykernel)",
   "language": "python",
   "name": "python3"
  },
  "language_info": {
   "codemirror_mode": {
    "name": "ipython",
    "version": 3
   },
   "file_extension": ".py",
   "mimetype": "text/x-python",
   "name": "python",
   "nbconvert_exporter": "python",
   "pygments_lexer": "ipython3",
   "version": "3.7.11"
  }
 },
 "nbformat": 4,
 "nbformat_minor": 4
}
