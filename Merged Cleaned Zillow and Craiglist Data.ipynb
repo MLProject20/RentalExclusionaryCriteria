{
 "cells": [
  {
   "cell_type": "markdown",
   "metadata": {},
   "source": [
    "### Import Libraries \n",
    "\n",
    "\n",
    " - The os module allows us to interact with operating systems including changing working directory\n",
    " - The pandas module allows us to read, clean and preprocess the output CSV files that were web scraped\n",
    " - The glob module allows us to search through file paths and search for files that meet a specific pattern in this example we look for .csv patterns\n",
    " "
   ]
  },
  {
   "cell_type": "code",
   "execution_count": 28,
   "metadata": {},
   "outputs": [],
   "source": [
    "import glob as gb\n",
    "import pandas as pd \n",
    "import os"
   ]
  },
  {
   "cell_type": "markdown",
   "metadata": {},
   "source": [
    "### Set Path\n",
    "- Set your path to where CSV outputs of your zillow and Craigslist webscraping was exported to us the os chdir method\n",
    "- Here since we are working with two different output files (Zillow and Craigslist data), make sure they are all in one directory"
   ]
  },
  {
   "cell_type": "code",
   "execution_count": 5,
   "metadata": {},
   "outputs": [],
   "source": [
    "path = \"C:\\\\Users\\\\padu\\\\Desktop\\\\Zillow\\\\ZillowCraiglist\"\n",
    "os.chdir(path)"
   ]
  },
  {
   "cell_type": "markdown",
   "metadata": {},
   "source": [
    "### Read Zillow and Craiglist Data\n",
    "- read individual files for Zillow and Craigslist"
   ]
  },
  {
   "cell_type": "code",
   "execution_count": 7,
   "metadata": {},
   "outputs": [],
   "source": [
    "Zillow = pd.read_csv('ZillowUnique.csv')\n",
    "Craiglist = pd.read_csv('FinalCraiglistDate.csv')"
   ]
  },
  {
   "cell_type": "code",
   "execution_count": 9,
   "metadata": {},
   "outputs": [
    {
     "data": {
      "text/plain": [
       "(39490, 16272)"
      ]
     },
     "execution_count": 9,
     "metadata": {},
     "output_type": "execute_result"
    }
   ],
   "source": [
    "len(Craiglist), len(Zillow)"
   ]
  },
  {
   "cell_type": "code",
   "execution_count": 10,
   "metadata": {},
   "outputs": [
    {
     "name": "stdout",
     "output_type": "stream",
     "text": [
      "16272\n"
     ]
    }
   ],
   "source": [
    "# Zillow prices are listed with the '/mo' sign for monthly rent price\n",
    "# Since we want only the numeric values of prices, we replace the '/mo' with blank text in a loop\n",
    "# we append each of the numerica values to a list called 'finalprice'\n",
    "# we then create a new column in our dataframe called 'finalprice' and pass the 'finalprice' list to the column\n",
    "\n",
    "finalprice = []\n",
    "for row in Zillow['price']:\n",
    "    first = row.replace('/mo','').replace('+','')\n",
    "    finalprice.append(first)\n",
    "print(len(finalprice))\n",
    "\n",
    "\n",
    "Zillow['finalprice']  = finalprice"
   ]
  },
  {
   "cell_type": "markdown",
   "metadata": {},
   "source": [
    "### Rename columns\n",
    "- Since we want to combine the Zillow and Craiglist by concatenating them, the columns names should be the same\n",
    "- we rename craiglist column name to match zillow columns.\n",
    "- for bedrooms and bathroom, the data from craigslist is combined in the same column and separated by \"/\"\n",
    "- wed split the using the str.split() method in pandas, and place them under different columns"
   ]
  },
  {
   "cell_type": "code",
   "execution_count": 11,
   "metadata": {},
   "outputs": [],
   "source": [
    "Craiglist = Craiglist.rename(columns = {'OverviewClean': 'overview', 'PostURL':'url',\n",
    "                                        'Price':'finalprice','address':'streetaddress',\n",
    "                                       'Neighborood': 'Locality',\n",
    "                                       'lat': 'latitude','lon':'longitude'})"
   ]
  },
  {
   "cell_type": "code",
   "execution_count": 12,
   "metadata": {},
   "outputs": [],
   "source": [
    "Craiglist[['bedrooms','baths']] = Craiglist.bedroom_baths.str.split(\"/\", expand =True)"
   ]
  },
  {
   "cell_type": "code",
   "execution_count": 13,
   "metadata": {},
   "outputs": [
    {
     "data": {
      "text/plain": [
       "(Index(['url', 'streetaddress', 'bedroom_baths', 'Title', 'finalprice',\n",
       "        'latitude', 'longitude', 'overview', 'Locality', 'floorsize',\n",
       "        'bedrooms', 'baths'],\n",
       "       dtype='object'),\n",
       " Index(['latitude', 'longitude', 'floorsize', 'streetaddress', 'zipcode',\n",
       "        'Locality', 'url', 'price', 'bedrooms', 'bedroomsLab', 'baths',\n",
       "        'overview', 'finalprice'],\n",
       "       dtype='object'))"
      ]
     },
     "execution_count": 13,
     "metadata": {},
     "output_type": "execute_result"
    }
   ],
   "source": [
    "#Verify if columns are similar for both Zillow and Craigslist\n",
    "\n",
    "Craiglist.columns, Zillow.columns"
   ]
  },
  {
   "cell_type": "markdown",
   "metadata": {},
   "source": [
    "### Concatenate the two dataframe\n",
    "- concatenate the zillow and craigslist data \n",
    "- Delete columns that are no more needed \n",
    "\n"
   ]
  },
  {
   "cell_type": "code",
   "execution_count": 19,
   "metadata": {},
   "outputs": [],
   "source": [
    "Rentals  = pd.concat([Zillow, Craiglist], axis=0)"
   ]
  },
  {
   "cell_type": "code",
   "execution_count": 20,
   "metadata": {},
   "outputs": [],
   "source": [
    "columns = ['bedroom_baths','bedroomsLab','price']"
   ]
  },
  {
   "cell_type": "code",
   "execution_count": 21,
   "metadata": {},
   "outputs": [],
   "source": [
    "Rentals = Rentals.drop(columns,axis =1)"
   ]
  },
  {
   "cell_type": "code",
   "execution_count": 22,
   "metadata": {},
   "outputs": [],
   "source": [
    "# Replace floorsizes that have \"available date\" with zero\n",
    "\n",
    "for row in Rentals['floorsize']:\n",
    "        a = str(row)\n",
    "        if a.startswith('a'):\n",
    "            Rentals['floorsize'] = Rentals['floorsize'].replace(str(row),\"0\")"
   ]
  },
  {
   "cell_type": "code",
   "execution_count": 20,
   "metadata": {
    "scrolled": true
   },
   "outputs": [
    {
     "data": {
      "text/plain": [
       "55762"
      ]
     },
     "execution_count": 20,
     "metadata": {},
     "output_type": "execute_result"
    }
   ],
   "source": [
    "\n",
    "len(Rentals)"
   ]
  },
  {
   "cell_type": "markdown",
   "metadata": {},
   "source": [
    "### Check for Duplicates \n",
    "- We checked for duplicates in the combined data \n",
    "- We checked for duplicates in only streetaddress\n",
    "- We checked for duplicates in only the description text\n",
    "- We checked for duplicaes in both the description text and street address\n",
    "- For our project, we used the data set that had no duplicates in the streetaddress"
   ]
  },
  {
   "cell_type": "code",
   "execution_count": 23,
   "metadata": {},
   "outputs": [],
   "source": [
    "# We checked for duplicates in the combined data \n",
    "Rentals = Rentals.drop_duplicates()\n",
    "\n",
    "# We checked for duplicates in only streetaddress\n",
    "StreetAddress =  Rentals.drop_duplicates(subset = \"streetaddress\")\n",
    "\n",
    "# We checked for duplicates in only the description text\n",
    "Overview = Rentals.drop_duplicates(subset = \"overview\")\n",
    "\n",
    "#We checked for duplicaes in both the description text and street address\n",
    "StreetOverview = Rentals.drop_duplicates(subset = [\"overview\",\"streetaddress\"])"
   ]
  },
  {
   "cell_type": "markdown",
   "metadata": {},
   "source": [
    "### Export merged data"
   ]
  },
  {
   "cell_type": "code",
   "execution_count": 22,
   "metadata": {},
   "outputs": [],
   "source": [
    "Rentals.to_csv(\"FinalZillowCraig_update.csv\", index=False)\n",
    "StreetAddress.to_csv(\"FinalZillowStreetAddress_update.csv\", index=False)\n",
    "Overview.to_csv(\"FinalZillowOverview_update.csv\", index=False)\n",
    "StreetOverview.to_csv(\"FinalStreetOverview_update.csv\", index=False)"
   ]
  },
  {
   "cell_type": "code",
   "execution_count": 27,
   "metadata": {
    "scrolled": true
   },
   "outputs": [
    {
     "data": {
      "text/plain": [
       "((51155, 12), (10146, 12), (32638, 12), (35172, 12))"
      ]
     },
     "execution_count": 27,
     "metadata": {},
     "output_type": "execute_result"
    }
   ],
   "source": [
    "# Verify datashape  \n",
    "\n",
    "Rentals.shape, StreetAddress.shape, Overview.shape, StreetOverview.shape"
   ]
  },
  {
   "cell_type": "code",
   "execution_count": null,
   "metadata": {},
   "outputs": [],
   "source": []
  }
 ],
 "metadata": {
  "kernelspec": {
   "display_name": "Python 3 (ipykernel)",
   "language": "python",
   "name": "python3"
  },
  "language_info": {
   "codemirror_mode": {
    "name": "ipython",
    "version": 3
   },
   "file_extension": ".py",
   "mimetype": "text/x-python",
   "name": "python",
   "nbconvert_exporter": "python",
   "pygments_lexer": "ipython3",
   "version": "3.7.11"
  }
 },
 "nbformat": 4,
 "nbformat_minor": 4
}
