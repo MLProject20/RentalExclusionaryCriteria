{
 "cells": [
  {
   "cell_type": "markdown",
   "metadata": {},
   "source": [
    "### Import Libraries \n",
    "\n",
    " - Request library allows you to send HTTP request in python to a specific URL. In our case we send an HTTP request to Zillow\n",
    " - Time module allows to handle time related task including formatting dates, waiting and representing time\n",
    " - The random module allows you to generate random \n",
    " - The bs4 module allows you to pull data from HTML document after you get a response from HTTP request\n",
    " - The os modules allows ou to interact with operating systems including changing working directory\n",
    " - The selenium module allows you to automate interaction with a web browser including sending URL request and extracting HTML\n",
    "   document response"
   ]
  },
  {
   "cell_type": "code",
   "execution_count": 4,
   "metadata": {},
   "outputs": [],
   "source": [
    "import requests\n",
    "import time\n",
    "from bs4 import BeautifulSoup\n",
    "from random import sample \n",
    "import pandas as pd \n",
    "import os\n",
    "from selenium import webdriver\n",
    "import json\n",
    "import csv\n",
    "from datetime import datetime\n"
   ]
  },
  {
   "cell_type": "markdown",
   "metadata": {},
   "source": [
    "### Set Path\n",
    " - Identify your destination folder\n",
    " - Use os change directory to set your destination directory as the default. That is where all outputs will be exported to"
   ]
  },
  {
   "cell_type": "code",
   "execution_count": 5,
   "metadata": {},
   "outputs": [],
   "source": [
    "path = \"C:\\\\Users\\\\padu\\\\Desktop\\\\Zillow\\\\\"\n",
    "os.chdir(path)"
   ]
  },
  {
   "cell_type": "markdown",
   "metadata": {},
   "source": [
    "### Create a file name\n",
    " - Create an outfile file name, I called mine ZillowSelium and formatted it a date time stamp\n",
    " - Note: If you are scraping multiple times in a day, then you need to format the time stamp with hours that way you don't overwrite already exported data"
   ]
  },
  {
   "cell_type": "code",
   "execution_count": 31,
   "metadata": {},
   "outputs": [
    {
     "data": {
      "text/plain": [
       "'ZillowSelium_2022_02_17_Feb_02.csv'"
      ]
     },
     "execution_count": 31,
     "metadata": {},
     "output_type": "execute_result"
    }
   ],
   "source": [
    "finalfile = \"ZillowSelium\" + \"_\" + \"{:%Y_%m_%d_%h_%m}\".format(datetime.now()) +\".csv\"\n",
    "finalfile"
   ]
  },
  {
   "cell_type": "markdown",
   "metadata": {},
   "source": [
    "### Main Webscraping \n",
    "\n",
    "- Output results\n",
    "- Page numbers\n",
    "- URL \n",
    "- Selenium Setup\n"
   ]
  },
  {
   "cell_type": "code",
   "execution_count": 30,
   "metadata": {},
   "outputs": [
    {
     "name": "stdout",
     "output_type": "stream",
     "text": [
      "This is page :1\n",
      "https://www.zillow.com/charlotte-nc/rentals/1_p/\n",
      "This is page :2\n",
      "https://www.zillow.com/charlotte-nc/rentals/2_p/\n",
      "This is page :3\n",
      "https://www.zillow.com/charlotte-nc/rentals/3_p/\n",
      "This is page :4\n",
      "https://www.zillow.com/charlotte-nc/rentals/4_p/\n",
      "This is page :5\n",
      "https://www.zillow.com/charlotte-nc/rentals/5_p/\n",
      "This is page :6\n",
      "https://www.zillow.com/charlotte-nc/rentals/6_p/\n",
      "This is page :7\n",
      "https://www.zillow.com/charlotte-nc/rentals/7_p/\n",
      "This is page :8\n",
      "https://www.zillow.com/charlotte-nc/rentals/8_p/\n",
      "This is page :9\n",
      "https://www.zillow.com/charlotte-nc/rentals/9_p/\n",
      "This is page :10\n",
      "https://www.zillow.com/charlotte-nc/rentals/10_p/\n",
      "This is page :11\n",
      "https://www.zillow.com/charlotte-nc/rentals/11_p/\n",
      "This is page :12\n",
      "https://www.zillow.com/charlotte-nc/rentals/12_p/\n",
      "This is page :13\n",
      "https://www.zillow.com/charlotte-nc/rentals/13_p/\n",
      "This is page :14\n",
      "https://www.zillow.com/charlotte-nc/rentals/14_p/\n",
      "This is page :15\n",
      "https://www.zillow.com/charlotte-nc/rentals/15_p/\n",
      "This is page :16\n",
      "https://www.zillow.com/charlotte-nc/rentals/16_p/\n",
      "This is page :17\n",
      "https://www.zillow.com/charlotte-nc/rentals/17_p/\n",
      "This is page :18\n",
      "https://www.zillow.com/charlotte-nc/rentals/18_p/\n",
      "This is page :19\n",
      "https://www.zillow.com/charlotte-nc/rentals/19_p/\n",
      "This is page :20\n",
      "https://www.zillow.com/charlotte-nc/rentals/20_p/\n"
     ]
    }
   ],
   "source": [
    "#Create a list that will hold the results\n",
    "\n",
    "results = []\n",
    "\n",
    "\n",
    "# Inspect the zillow website and figure out the number pages for rental ads use\n",
    "# In the charlotte example, there are a total of 20 pages so I set the range at 21\n",
    "\n",
    "for page in range(1,21,1):\n",
    "    \n",
    "    print(\"This is page :\" + str(page))\n",
    "    \n",
    "    #Identify the Zillow URL of your City, it should follow this format:\n",
    "    # 1. Default Zillow url : https://www.zillow.com/\n",
    "    # 2. Name of your City: eg. charlotte-nc, atlanta-ga\n",
    "    # 3. Pass the page number \n",
    "    # 4. Add the \"_p\" that is a default thing with the Zillow website \n",
    "    # 5. In a sample URL on page 15 for example will be like: https://www.zillow.com/charlotte-nc/rentals/15_p/\n",
    "    \n",
    "    url = \"https://www.zillow.com/charlotte-nc/rentals/\" +str(page) + '_p/'\n",
    "    \n",
    "    # Here we are going to utilize the selenium. To automate the interaction behavior of a web browser you would\n",
    "    # need a web driver. Each browser has a webdriver, in my case I am using google chrome so I download the web driver\n",
    "    # from this website \"https://chromedriver.storage.googleapis.com/index.html?path=98.0.4758.80/\" \n",
    "    \n",
    "    # After downloading and extracting the web drive(chromdriver.exe) you use the webdrive.Chrome() method to initiate\n",
    "    # the chrome browser and pass the path where the driver is saved.\n",
    "    \n",
    "    \n",
    "    CraiglistBrowser = webdriver.Chrome(\"C:/Users/padu/Downloads/chromedriver_win32/chromedriver.exe\")\n",
    "    CraiglistBrowser.maximize_window()\n",
    "    \n",
    "    # After the browser has been launched use the get() to pass the url \n",
    "    Craiglist = CraiglistBrowser.get(url)\n",
    "    CraiglistHTML = CraiglistBrowser.execute_script(\"return document.documentElement.outerHTML\")\n",
    "    soup = BeautifulSoup(CraiglistHTML, 'html.parser')\n",
    "    CraiglistBrowser.quit()\n",
    "    print(url)\n",
    "\n",
    "\n",
    "    deck = soup.find('ul',{'class': 'photo-cards photo-cards_wow photo-cards_short'})\n",
    "\n",
    "    for card in deck.contents: \n",
    "        script = card.find('script',  {'type': 'application/ld+json'})\n",
    "\n",
    "\n",
    "        try: \n",
    "            if script:\n",
    "            \n",
    "                script_json = json.loads(script.contents[0])\n",
    "               \n",
    "                try:\n",
    "                    descriptions = script_json['url']\n",
    "                    CraiglistBrowser = webdriver.Chrome(\"C:/Users/padu/Downloads/chromedriver_win32/chromedriver.exe\")\n",
    "                    CraiglistBrowser.maximize_window()\n",
    "                    Craiglist = CraiglistBrowser.get(descriptions)\n",
    "                    CraiglistHTML = CraiglistBrowser.execute_script(\"return document.documentElement.outerHTML\")\n",
    "                    soup = BeautifulSoup(CraiglistHTML, 'html.parser')\n",
    "                    CraiglistBrowser.quit()\n",
    "\n",
    "                except:\n",
    "                    pass\n",
    "\n",
    "                loop_soup = BeautifulSoup(CraiglistHTML, 'html.parser')\n",
    "\n",
    "                try:\n",
    "                    loopresults2 = loop_soup.find('div', {'class' : 'ds-overview-section'}).text\n",
    "\n",
    "\n",
    "                except:\n",
    "                    pass\n",
    "\n",
    "\n",
    "                results.append({\n",
    "                                    'latitude': script_json['geo']['latitude'],\n",
    "                                    'longitude': script_json['geo']['longitude'],\n",
    "                                    'floorsize': script_json['floorSize']['value'],\n",
    "                                    'streetaddress': script_json['name'],\n",
    "                                    'zipcode': script_json['address']['postalCode'],\n",
    "                                    'Locality': script_json['address']['addressLocality'],\n",
    "                                    'url': script_json['url'],\n",
    "                                    'price': card.find('div', {'class': 'list-card-price'}).text,\n",
    "                                    'bedrooms': card.find('ul',{'class': 'list-card-details'}).text[0],\n",
    "                                    'bedroomsLab': card.find('ul',{'class': 'list-card-details'}).find('li', {'class': ''}).text,\n",
    "                                    'baths': card.find('ul',{'class': 'list-card-details'}).text[5],\n",
    "                                    'overview' : loopresults2\n",
    "                                })\n",
    "        except KeyError :\n",
    "            pass\n",
    "\n",
    "        Zillowdata =  pd.DataFrame(results)\n",
    "        Zillowdata.to_csv(finalfile, index = False)\n"
   ]
  },
  {
   "cell_type": "code",
   "execution_count": 7,
   "metadata": {},
   "outputs": [],
   "source": [
    "time.sleep(0.0006)"
   ]
  },
  {
   "cell_type": "code",
   "execution_count": null,
   "metadata": {},
   "outputs": [],
   "source": []
  },
  {
   "cell_type": "code",
   "execution_count": null,
   "metadata": {},
   "outputs": [],
   "source": []
  }
 ],
 "metadata": {
  "kernelspec": {
   "display_name": "Python 3 (ipykernel)",
   "language": "python",
   "name": "python3"
  },
  "language_info": {
   "codemirror_mode": {
    "name": "ipython",
    "version": 3
   },
   "file_extension": ".py",
   "mimetype": "text/x-python",
   "name": "python",
   "nbconvert_exporter": "python",
   "pygments_lexer": "ipython3",
   "version": "3.7.11"
  }
 },
 "nbformat": 4,
 "nbformat_minor": 4
}
